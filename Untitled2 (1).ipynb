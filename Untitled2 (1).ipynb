{
  "metadata": {
    "language_info": {
      "codemirror_mode": {
        "name": "python",
        "version": 3
      },
      "file_extension": ".py",
      "mimetype": "text/x-python",
      "name": "python",
      "nbconvert_exporter": "python",
      "pygments_lexer": "ipython3",
      "version": "3.8"
    },
    "kernelspec": {
      "name": "python",
      "display_name": "Python (Pyodide)",
      "language": "python"
    }
  },
  "nbformat_minor": 4,
  "nbformat": 4,
  "cells": [
    {
      "cell_type": "code",
      "source": "#Задана строка.Необходимо посчитать количество символов \nprint(len(\"Hello world!\"))",
      "metadata": {
        "trusted": true
      },
      "execution_count": 1,
      "outputs": [
        {
          "name": "stdout",
          "text": "12\n",
          "output_type": "stream"
        }
      ]
    },
    {
      "cell_type": "code",
      "source": "#Измените порядок символов в строке на обратный \nprint(\"Hello world!\"[::-1])",
      "metadata": {
        "trusted": true
      },
      "execution_count": 2,
      "outputs": [
        {
          "name": "stdout",
          "text": "!dlrow olleH\n",
          "output_type": "stream"
        }
      ]
    },
    {
      "cell_type": "code",
      "source": "#Найдите подстроку,заключенную в двойных кавычках в строке\nprint((\"Hello \\\"world\\\"!\")[7:12])",
      "metadata": {
        "trusted": true
      },
      "execution_count": 3,
      "outputs": [
        {
          "name": "stdout",
          "text": "world\n",
          "output_type": "stream"
        }
      ]
    },
    {
      "cell_type": "code",
      "source": "#Из почтового адреса нужно достать логин \nemail = \"ivan@lenta.ru\"\nusername = email.split(\"@\", 1)[0]\nprint(username)",
      "metadata": {
        "trusted": true
      },
      "execution_count": 4,
      "outputs": [
        {
          "name": "stdout",
          "text": "ivan\n",
          "output_type": "stream"
        }
      ]
    },
    {
      "cell_type": "code",
      "source": "#Человек вводит на сайте номер телефона ему позволено для удобства использовать кроме плюса и цифр знаки '-',')','(' и пробелы.Уберите их из ввода\na = '7(495) 234-56-78'\na = a.replace('(','')\na = a.replace(')','')\na = a.replace('-','')\na = a.replace(' ','')\nprint(a)",
      "metadata": {
        "trusted": true
      },
      "execution_count": 5,
      "outputs": [
        {
          "name": "stdout",
          "text": "74952345678\n",
          "output_type": "stream"
        }
      ]
    },
    {
      "cell_type": "code",
      "source": "#В строке записаны два числа, разделенные пробелом.Поменяйте их местами и напечататайте резульат \na = '23 456'\na = a.split()\nprint(a[1],a[0])",
      "metadata": {
        "trusted": true
      },
      "execution_count": 6,
      "outputs": [
        {
          "name": "stdout",
          "text": "456 23\n",
          "output_type": "stream"
        }
      ]
    },
    {
      "cell_type": "code",
      "source": "#Вводится строка.Разделитель слов-пробел.Вывести все слова(на отдельных строках)\na = \"Hello world!\"\nprint('\\n'.join(a.split()))",
      "metadata": {
        "trusted": true
      },
      "execution_count": 7,
      "outputs": [
        {
          "name": "stdout",
          "text": "Hello\nworld!\n",
          "output_type": "stream"
        }
      ]
    },
    {
      "cell_type": "code",
      "source": "#Вам дана строка, состоящая только из букв английского алфавита и пробелов.Напишите программу,которая определит,является ли строка палиндромом\nslovo = str(input())\na = slovo[::-1]\nif slovo == a:\n  print(\"yes\")\nelse:\n  print(\"no\")",
      "metadata": {
        "trusted": true
      },
      "execution_count": 8,
      "outputs": [
        {
          "name": "stdout",
          "text": "no\n",
          "output_type": "stream"
        },
        {
          "output_type": "stream",
          "name": "stdin",
          "text": " qwerty456ytrewq\n"
        }
      ]
    },
    {
      "cell_type": "code",
      "source": "",
      "metadata": {},
      "execution_count": null,
      "outputs": []
    }
  ]
}
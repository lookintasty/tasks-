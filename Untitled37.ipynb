{
  "metadata": {
    "language_info": {
      "codemirror_mode": {
        "name": "python",
        "version": 3
      },
      "file_extension": ".py",
      "mimetype": "text/x-python",
      "name": "python",
      "nbconvert_exporter": "python",
      "pygments_lexer": "ipython3",
      "version": "3.8"
    },
    "kernelspec": {
      "name": "python",
      "display_name": "Python (Pyodide)",
      "language": "python"
    }
  },
  "nbformat_minor": 4,
  "nbformat": 4,
  "cells": [
    {
      "cell_type": "code",
      "source": "#Вводится число. Вывести его квадрат.\na = int(input())\nprint(a**2)",
      "metadata": {
        "trusted": true
      },
      "execution_count": null,
      "outputs": []
    },
    {
      "cell_type": "code",
      "source": "#На вход подается строка, состоящая из одного числа. Напишите программу, которая удваивает его.\na = int(input())\nprint(a*2)",
      "metadata": {
        "trusted": true
      },
      "execution_count": null,
      "outputs": []
    },
    {
      "cell_type": "code",
      "source": "#Вводятся часы, минуты и секунды. Вывести, сколько секунд прошло с полуночи.Вывести, какая часть суток прошла (число от 0 до 1).\na = int(input())\nb = int(input())\nc = int(input())\nv = a*3600 + b*60 + 1\nprint('seconds:',v)\nprint('day part:',v / (24*3600))",
      "metadata": {
        "trusted": true
      },
      "execution_count": null,
      "outputs": []
    },
    {
      "cell_type": "code",
      "source": "#Вводится число. Вывести, оканчивается ли оно на цифру 7, не используя приведение к строке и операции над строками\na = int(input())\nif a%10 == 7:\n    print(\"True\")\nelse:\n    print(\"False\")",
      "metadata": {
        "trusted": true
      },
      "execution_count": null,
      "outputs": []
    },
    {
      "cell_type": "code",
      "source": "#Вводятся коэффициенты уравнения ax2+bx+c=0. Вывести его корни(не забыть проверить, что a не равно 0)\na = float(input('a = '))\nb = float(input('b = '))\nc = float(input('c = '))\nD = b ** 2 - 4 * a * c\nif D > 0:\n    x1 = (-b + D**0.5) / (2*a)\n    x2 = (-b - D**0.5) / (2*a)\n    print('x1 = ', x1, 'x2 = ', x2)\nelif D == 0:\n    x = -b / (2 * a)\n    print('x = ', x)\nelse:\n    print('корней нет')",
      "metadata": {
        "trusted": true
      },
      "execution_count": null,
      "outputs": []
    },
    {
      "cell_type": "code",
      "source": "#Вводятся три числа. Вывести максимум из них.\na = int(input('Выведите число 1-'))\nb = int(input('Выведите число 2-'))\nc = int(input('Выведите число 3-'))\nn = a\nif n<b:\n    n=b\nif n<c:\n    n=c\nprint(n)",
      "metadata": {
        "trusted": true
      },
      "execution_count": null,
      "outputs": []
    },
    {
      "cell_type": "code",
      "source": "#Вводится число. Вывести среднее арифметическое (с точностью до двух знаков после запятой) тех чисел в диапазоне от единицы до введённого числа, которые делятся 5 или являются четными.\nn = int(input())\nx = [int(x) for x in range(1, n+1) if (x%5 == 0) or (x%2 == 0)]\nprint(round(sum(x) / len(x), 2))",
      "metadata": {},
      "execution_count": null,
      "outputs": []
    }
  ]
}
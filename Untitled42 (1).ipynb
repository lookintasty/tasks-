{
  "metadata": {
    "language_info": {
      "codemirror_mode": {
        "name": "python",
        "version": 3
      },
      "file_extension": ".py",
      "mimetype": "text/x-python",
      "name": "python",
      "nbconvert_exporter": "python",
      "pygments_lexer": "ipython3",
      "version": "3.8"
    },
    "kernelspec": {
      "name": "python",
      "display_name": "Python (Pyodide)",
      "language": "python"
    }
  },
  "nbformat_minor": 4,
  "nbformat": 4,
  "cells": [
    {
      "cell_type": "code",
      "source": "#Вводится число. Вывести его квадрат.\na = int(await(input()))",
      "metadata": {
        "trusted": true
      },
      "execution_count": 1,
      "outputs": [
        {
          "output_type": "stream",
          "name": "stdin",
          "text": " 23\n"
        }
      ]
    },
    {
      "cell_type": "code",
      "source": "print(a**2)",
      "metadata": {
        "trusted": true
      },
      "execution_count": 2,
      "outputs": [
        {
          "name": "stdout",
          "text": "529\n",
          "output_type": "stream"
        }
      ]
    },
    {
      "cell_type": "code",
      "source": "#На вход подается строка, состоящая из одного числа. Напишите программу, которая удваивает его.\na = int(await(input()))",
      "metadata": {
        "trusted": true
      },
      "execution_count": 3,
      "outputs": [
        {
          "output_type": "stream",
          "name": "stdin",
          "text": " 646\n"
        }
      ]
    },
    {
      "cell_type": "code",
      "source": "print(a*2)",
      "metadata": {
        "trusted": true
      },
      "execution_count": 4,
      "outputs": [
        {
          "name": "stdout",
          "text": "1292\n",
          "output_type": "stream"
        }
      ]
    },
    {
      "cell_type": "code",
      "source": "#Вводятся часы, минуты и секунды. Вывести, сколько секунд прошло с полуночи.Вывести, какая часть суток прошла (число от 0 до 1).\na = int(await(input()))",
      "metadata": {
        "trusted": true
      },
      "execution_count": 12,
      "outputs": [
        {
          "output_type": "stream",
          "name": "stdin",
          "text": " 19\n"
        }
      ]
    },
    {
      "cell_type": "code",
      "source": "b = int(await(input()))",
      "metadata": {
        "trusted": true
      },
      "execution_count": 13,
      "outputs": [
        {
          "output_type": "stream",
          "name": "stdin",
          "text": " 54\n"
        }
      ]
    },
    {
      "cell_type": "code",
      "source": "c = int(await(input()))",
      "metadata": {
        "trusted": true
      },
      "execution_count": 14,
      "outputs": [
        {
          "output_type": "stream",
          "name": "stdin",
          "text": " 12\n"
        }
      ]
    },
    {
      "cell_type": "code",
      "source": "v = a*3600 + b*60 + 1\nprint('seconds:',v)\nprint('day part:',v / (24*3600))",
      "metadata": {
        "trusted": true
      },
      "execution_count": 15,
      "outputs": [
        {
          "name": "stdout",
          "text": "seconds: 71641\nday part: 0.8291782407407408\n",
          "output_type": "stream"
        }
      ]
    },
    {
      "cell_type": "code",
      "source": "#Вводится число. Вывести, оканчивается ли оно на цифру 7, не используя приведение к строке и операции над строками\na = int(await(input()))",
      "metadata": {
        "trusted": true
      },
      "execution_count": 1,
      "outputs": [
        {
          "output_type": "stream",
          "name": "stdin",
          "text": " 777\n"
        }
      ]
    },
    {
      "cell_type": "code",
      "source": "if a%10 == 7:\n    print(\"True\")\nelse:\n    print(\"False\")",
      "metadata": {
        "trusted": true
      },
      "execution_count": 2,
      "outputs": [
        {
          "name": "stdout",
          "text": "True\n",
          "output_type": "stream"
        }
      ]
    },
    {
      "cell_type": "code",
      "source": "#Вводятся коэффициенты уравнения ax2+bx+c=0. Вывести его корни(не забыть проверить, что a не равно 0)\na = float(await(input('a = ')))",
      "metadata": {
        "trusted": true
      },
      "execution_count": 1,
      "outputs": [
        {
          "output_type": "stream",
          "name": "stdin",
          "text": "a =  -4\n"
        }
      ]
    },
    {
      "cell_type": "code",
      "source": "b = float(await(input('b = ')))",
      "metadata": {
        "trusted": true
      },
      "execution_count": 2,
      "outputs": [
        {
          "output_type": "stream",
          "name": "stdin",
          "text": "b =  10\n"
        }
      ]
    },
    {
      "cell_type": "code",
      "source": "c = float(await(input('c = ')))",
      "metadata": {
        "trusted": true
      },
      "execution_count": 3,
      "outputs": [
        {
          "output_type": "stream",
          "name": "stdin",
          "text": "c =  2\n"
        }
      ]
    },
    {
      "cell_type": "code",
      "source": "D = b ** 2 - 4 * a * c\nif D > 0:\n    x1 = (-b + D**0.5) / (2*a)\n    x2 = (-b - D**0.5) / (2*a)\n    print('x1 = ', x1, 'x2 = ', x2)\nelif D == 0:\n    x = -b / (2 * a)\n    print('x = ', x)\nelse:\n    print('корней нет')",
      "metadata": {
        "trusted": true
      },
      "execution_count": 4,
      "outputs": [
        {
          "name": "stdout",
          "text": "x1 =  -0.18614066163450715 x2 =  2.686140661634507\n",
          "output_type": "stream"
        }
      ]
    },
    {
      "cell_type": "code",
      "source": "#Вводятся три числа. Вывести максимум из них.\na = int(await(input('Выведите число 1-')))",
      "metadata": {
        "trusted": true
      },
      "execution_count": 5,
      "outputs": [
        {
          "output_type": "stream",
          "name": "stdin",
          "text": "Выведите число 1- 4\n"
        }
      ]
    },
    {
      "cell_type": "code",
      "source": "b = int(await(input('Выведите число 2-')))",
      "metadata": {
        "trusted": true
      },
      "execution_count": 6,
      "outputs": [
        {
          "output_type": "stream",
          "name": "stdin",
          "text": "Выведите число 2- 57\n"
        }
      ]
    },
    {
      "cell_type": "code",
      "source": "c = int(await(input('Выведите число 3-')))",
      "metadata": {
        "trusted": true
      },
      "execution_count": 7,
      "outputs": [
        {
          "output_type": "stream",
          "name": "stdin",
          "text": "Выведите число 3- 10\n"
        }
      ]
    },
    {
      "cell_type": "code",
      "source": "n = a\nif n<b:\n    n=b\nif n<c:\n    n=c\nprint(n)",
      "metadata": {
        "trusted": true
      },
      "execution_count": 8,
      "outputs": [
        {
          "name": "stdout",
          "text": "57\n",
          "output_type": "stream"
        }
      ]
    },
    {
      "cell_type": "code",
      "source": "#Вводится число. Вывести среднее арифметическое (с точностью до двух знаков после запятой) тех чисел в диапазоне от единицы до введённого числа, которые делятся 5 или являются четными.\nn = int(await(input()))",
      "metadata": {
        "trusted": true
      },
      "execution_count": 9,
      "outputs": [
        {
          "output_type": "stream",
          "name": "stdin",
          "text": " 23\n"
        }
      ]
    },
    {
      "cell_type": "code",
      "source": "x = [int(x) for x in range(1, n+1) if (x%5 == 0) or (x%2 == 0)]\nprint(round(sum(x) / len(x), 2))",
      "metadata": {
        "trusted": true
      },
      "execution_count": 10,
      "outputs": [
        {
          "name": "stdout",
          "text": "11.69\n",
          "output_type": "stream"
        }
      ]
    }
  ]
}